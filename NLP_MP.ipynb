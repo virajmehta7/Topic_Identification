{
  "nbformat": 4,
  "nbformat_minor": 0,
  "metadata": {
    "colab": {
      "provenance": [],
      "collapsed_sections": [],
      "include_colab_link": true
    },
    "kernelspec": {
      "name": "python3",
      "display_name": "Python 3"
    },
    "language_info": {
      "name": "python"
    }
  },
  "cells": [
    {
      "cell_type": "markdown",
      "metadata": {
        "id": "view-in-github",
        "colab_type": "text"
      },
      "source": [
        "<a href=\"https://colab.research.google.com/github/virajmehta7/Topic_Identification/blob/main/NLP_MP.ipynb\" target=\"_parent\"><img src=\"https://colab.research.google.com/assets/colab-badge.svg\" alt=\"Open In Colab\"/></a>"
      ]
    },
    {
      "cell_type": "code",
      "source": [
        "pip install googletrans==4.0.0rc1"
      ],
      "metadata": {
        "colab": {
          "base_uri": "https://localhost:8080/"
        },
        "id": "EwFZXq79DgzM",
        "outputId": "6fc0fb3c-9b2e-4ad2-98c0-bc0639effd20"
      },
      "execution_count": null,
      "outputs": [
        {
          "output_type": "stream",
          "name": "stdout",
          "text": [
            "Looking in indexes: https://pypi.org/simple, https://us-python.pkg.dev/colab-wheels/public/simple/\n",
            "Collecting googletrans==4.0.0rc1\n",
            "  Downloading googletrans-4.0.0rc1.tar.gz (20 kB)\n",
            "Collecting httpx==0.13.3\n",
            "  Downloading httpx-0.13.3-py3-none-any.whl (55 kB)\n",
            "\u001b[K     |████████████████████████████████| 55 kB 2.4 MB/s \n",
            "\u001b[?25hCollecting rfc3986<2,>=1.3\n",
            "  Downloading rfc3986-1.5.0-py2.py3-none-any.whl (31 kB)\n",
            "Collecting httpcore==0.9.*\n",
            "  Downloading httpcore-0.9.1-py3-none-any.whl (42 kB)\n",
            "\u001b[K     |████████████████████████████████| 42 kB 1.2 MB/s \n",
            "\u001b[?25hCollecting sniffio\n",
            "  Downloading sniffio-1.3.0-py3-none-any.whl (10 kB)\n",
            "Requirement already satisfied: certifi in /usr/local/lib/python3.7/dist-packages (from httpx==0.13.3->googletrans==4.0.0rc1) (2022.9.24)\n",
            "Requirement already satisfied: chardet==3.* in /usr/local/lib/python3.7/dist-packages (from httpx==0.13.3->googletrans==4.0.0rc1) (3.0.4)\n",
            "Collecting hstspreload\n",
            "  Downloading hstspreload-2022.10.1-py3-none-any.whl (1.4 MB)\n",
            "\u001b[K     |████████████████████████████████| 1.4 MB 14.3 MB/s \n",
            "\u001b[?25hRequirement already satisfied: idna==2.* in /usr/local/lib/python3.7/dist-packages (from httpx==0.13.3->googletrans==4.0.0rc1) (2.10)\n",
            "Collecting h2==3.*\n",
            "  Downloading h2-3.2.0-py2.py3-none-any.whl (65 kB)\n",
            "\u001b[K     |████████████████████████████████| 65 kB 2.9 MB/s \n",
            "\u001b[?25hCollecting h11<0.10,>=0.8\n",
            "  Downloading h11-0.9.0-py2.py3-none-any.whl (53 kB)\n",
            "\u001b[K     |████████████████████████████████| 53 kB 1.9 MB/s \n",
            "\u001b[?25hCollecting hpack<4,>=3.0\n",
            "  Downloading hpack-3.0.0-py2.py3-none-any.whl (38 kB)\n",
            "Collecting hyperframe<6,>=5.2.0\n",
            "  Downloading hyperframe-5.2.0-py2.py3-none-any.whl (12 kB)\n",
            "Building wheels for collected packages: googletrans\n",
            "  Building wheel for googletrans (setup.py) ... \u001b[?25l\u001b[?25hdone\n",
            "  Created wheel for googletrans: filename=googletrans-4.0.0rc1-py3-none-any.whl size=17416 sha256=2652a1a506b536e55638d64691d88ae68f995e119b2d77fcff8fe7e74e3c0e49\n",
            "  Stored in directory: /root/.cache/pip/wheels/43/34/00/4fe71786ea6d12314b29037620c36d857e5d104ac2748bf82a\n",
            "Successfully built googletrans\n",
            "Installing collected packages: hyperframe, hpack, sniffio, h2, h11, rfc3986, httpcore, hstspreload, httpx, googletrans\n",
            "Successfully installed googletrans-4.0.0rc1 h11-0.9.0 h2-3.2.0 hpack-3.0.0 hstspreload-2022.10.1 httpcore-0.9.1 httpx-0.13.3 hyperframe-5.2.0 rfc3986-1.5.0 sniffio-1.3.0\n"
          ]
        }
      ]
    },
    {
      "cell_type": "code",
      "source": [
        "import nltk\n",
        "import gensim\n",
        "import string\n",
        "import googletrans\n",
        "\n",
        "from collections import Counter\n",
        "from googletrans import Translator\n",
        "from nltk.tokenize import word_tokenize\n",
        "from nltk.tokenize import sent_tokenize\n",
        "from nltk.corpus import stopwords\n",
        "from gensim import corpora\n",
        "from gensim.corpora.dictionary import Dictionary\n",
        "\n",
        "nltk.download('wordnet')\n",
        "nltk.download('stopwords')\n",
        "nltk.download('punkt')\n",
        "nltk.download('omw-1.4')\n",
        "nltk.download('averaged_perceptron_tagger')"
      ],
      "metadata": {
        "colab": {
          "base_uri": "https://localhost:8080/"
        },
        "id": "ck5gjAQktwi9",
        "outputId": "6abade31-c404-4e6b-ef6f-ade4920cf89e"
      },
      "execution_count": null,
      "outputs": [
        {
          "output_type": "stream",
          "name": "stderr",
          "text": [
            "[nltk_data] Downloading package wordnet to /root/nltk_data...\n",
            "[nltk_data] Downloading package stopwords to /root/nltk_data...\n",
            "[nltk_data]   Unzipping corpora/stopwords.zip.\n",
            "[nltk_data] Downloading package punkt to /root/nltk_data...\n",
            "[nltk_data]   Unzipping tokenizers/punkt.zip.\n",
            "[nltk_data] Downloading package omw-1.4 to /root/nltk_data...\n",
            "[nltk_data] Downloading package averaged_perceptron_tagger to\n",
            "[nltk_data]     /root/nltk_data...\n",
            "[nltk_data]   Unzipping taggers/averaged_perceptron_tagger.zip.\n"
          ]
        },
        {
          "output_type": "execute_result",
          "data": {
            "text/plain": [
              "True"
            ]
          },
          "metadata": {},
          "execution_count": 2
        }
      ]
    },
    {
      "cell_type": "code",
      "source": [
        "def remove_punctuation(text,punct_list):\n",
        "    for punc in punct_list:\n",
        "        if punc in text:\n",
        "            text = text.replace(punc, '')\n",
        "    return text.strip()"
      ],
      "metadata": {
        "id": "PKO0HXjuVJD5"
      },
      "execution_count": null,
      "outputs": []
    },
    {
      "cell_type": "code",
      "source": [
        "final_sentence = []\n",
        "\n",
        "# data = \"Three Idiots is my favourite film. This is the story of three Imperial College of Engineering engineering. Here students who discover their relationship by making themselves look like idiots and learning from it. Farhan Qureshi, played by R. Madhavan, Raju Rastogi, played by Sharman Joshi, and Ranchoddas Shamaldas Rancho Chanchad, played by Aamir Khan, were the key characters. The major reason I enjoy this picture is that it is full of comedy category. Three idiot is a story of human struggle from cradle to grave. The movie portrays how the human struggle for the existence of beings with the birth of a child. The film motivates people to study what they like. The director of the film makes an effort to display the critical condition of the education system of India. It is a brilliant movie that is entertaining and also bends an important message to the viewer.\"\n",
        "\n",
        "data = \"In an attempt to build an AI ready workforce, Microsoft announced Intelligent Cloud which has been launched to empower the next generation of students with AI ready skills. Envisioned as a three year collaborative program, Intelligent Cloud Hub will support around 100 institutions with AI infrastructure, course content and curriculum, developer support, development tools and give students access to cloud and AI services. As part of the program, the Redmond giant which wants to expand its reach and is planning to build a strong developer ecosystem in India with the program will set up the core AI infrastructure and IoT Hub for the selected campuses. The company will provide AI development tools and Azure AI services such as Microsoft Cognitive Services, Bot Services and Azure Machine Learning.According to Manish Prakash, Country General Manager-PS, Health and Education, Microsoft India, said, With AI being the defining technology of our time, it is transforming lives and industry and the jobs of tomorrow will require a different skillset. This will require more collaborations and training and working with AI. That’s why it has become more critical than ever for educational institutions to integrate new cloud and AI technologies. The program is an attempt to ramp up the institutional set-up and build capabilities among the educators to educate the workforce of tomorrow. The program aims to build up the cognitive skills and in-depth understanding of developing intelligent cloud connected solutions for applications across industry. Earlier in April this year, the company announced Microsoft Professional Program In AI as a learning track open to the public. The program was developed to provide job ready skills to programmers who wanted to hone their skills in AI and data science with a series of online courses which featured hands-on labs and expert instructors as well. This program also included developer-focused AI school that provided a bunch of assets to help build AI skills.\"\n",
        "\n",
        "sentences = sent_tokenize(data)\n",
        "\n",
        "regular_punct = list(string.punctuation)\n",
        "\n",
        "for i in sentences:\n",
        "  final_sentence.append(remove_punctuation(i,regular_punct))\n",
        "\n",
        "final_sentence"
      ],
      "metadata": {
        "colab": {
          "base_uri": "https://localhost:8080/"
        },
        "id": "o7ARhxlzD-xk",
        "outputId": "8abccb74-4506-42c2-9161-5b3b1c36700f"
      },
      "execution_count": null,
      "outputs": [
        {
          "output_type": "execute_result",
          "data": {
            "text/plain": [
              "['In an attempt to build an AI ready workforce Microsoft announced Intelligent Cloud which has been launched to empower the next generation of students with AI ready skills',\n",
              " 'Envisioned as a three year collaborative program Intelligent Cloud Hub will support around 100 institutions with AI infrastructure course content and curriculum developer support development tools and give students access to cloud and AI services',\n",
              " 'As part of the program the Redmond giant which wants to expand its reach and is planning to build a strong developer ecosystem in India with the program will set up the core AI infrastructure and IoT Hub for the selected campuses',\n",
              " 'The company will provide AI development tools and Azure AI services such as Microsoft Cognitive Services Bot Services and Azure Machine LearningAccording to Manish Prakash Country General ManagerPS Health and Education Microsoft India said With AI being the defining technology of our time it is transforming lives and industry and the jobs of tomorrow will require a different skillset',\n",
              " 'This will require more collaborations and training and working with AI',\n",
              " 'That’s why it has become more critical than ever for educational institutions to integrate new cloud and AI technologies',\n",
              " 'The program is an attempt to ramp up the institutional setup and build capabilities among the educators to educate the workforce of tomorrow',\n",
              " 'The program aims to build up the cognitive skills and indepth understanding of developing intelligent cloud connected solutions for applications across industry',\n",
              " 'Earlier in April this year the company announced Microsoft Professional Program In AI as a learning track open to the public',\n",
              " 'The program was developed to provide job ready skills to programmers who wanted to hone their skills in AI and data science with a series of online courses which featured handson labs and expert instructors as well',\n",
              " 'This program also included developerfocused AI school that provided a bunch of assets to help build AI skills']"
            ]
          },
          "metadata": {},
          "execution_count": 4
        }
      ]
    },
    {
      "cell_type": "code",
      "source": [
        "a = []\n",
        "res = []\n",
        "\n",
        "for i in final_sentence:\n",
        "  tok = word_tokenize(i)\n",
        "  a.append(tok)\n",
        "\n",
        "for j in a:\n",
        "  tagging = nltk.pos_tag(j)\n",
        "  ab = \"\"\n",
        "  for tag in tagging:\n",
        "    if tag[1] == 'VB' or tag[1] == 'VBN' or tag[1] =='VBD':\n",
        "      continue\n",
        "    else:\n",
        "      ab += (tag[0] + \" \")\n",
        "  res.append(ab)\n",
        "\n",
        "res"
      ],
      "metadata": {
        "colab": {
          "base_uri": "https://localhost:8080/"
        },
        "id": "y56Ddl6ZBl-Z",
        "outputId": "592f84f5-839d-4dba-d2d8-ae9a88dfb921"
      },
      "execution_count": null,
      "outputs": [
        {
          "output_type": "execute_result",
          "data": {
            "text/plain": [
              "['In an attempt to an AI ready workforce Microsoft Intelligent Cloud which has to the next generation of students with AI ready skills ',\n",
              " 'as a three year collaborative program Intelligent Cloud Hub will around 100 institutions with AI infrastructure course content and curriculum developer support development tools and give students access to and AI services ',\n",
              " 'As part of the program the Redmond giant which wants to its reach and is planning to a strong developer ecosystem in India with the program will up the core AI infrastructure and IoT Hub for the campuses ',\n",
              " 'The company will AI development tools and Azure AI services such as Microsoft Cognitive Services Bot Services and Azure Machine LearningAccording to Prakash Country General ManagerPS Health and Education Microsoft India With AI being the defining technology of our time it is transforming lives and industry and the jobs of tomorrow will a different skillset ',\n",
              " 'This will more collaborations and training and working with AI ',\n",
              " 'That s why it has more critical than ever for educational institutions to new cloud and AI technologies ',\n",
              " 'The program is an attempt to up the institutional setup and build capabilities among the educators to the workforce of tomorrow ',\n",
              " 'The program aims to up the cognitive skills and indepth understanding of developing intelligent cloud solutions for applications across industry ',\n",
              " 'Earlier in April this year the company Microsoft Professional Program In AI as a learning track open to the public ',\n",
              " 'The program to job ready skills to programmers who to their skills in AI and data science with a series of online courses which handson labs and expert instructors as well ',\n",
              " 'This program also developerfocused AI school that a bunch of assets to AI skills ']"
            ]
          },
          "metadata": {},
          "execution_count": 5
        }
      ]
    },
    {
      "cell_type": "code",
      "source": [
        "translator = Translator()\n",
        "\n",
        "doc = []\n",
        "\n",
        "for i in res:\n",
        "  result = translator.translate(i, src='en', dest='hi')\n",
        "  doc.append(result.text)\n",
        "\n",
        "doc"
      ],
      "metadata": {
        "colab": {
          "base_uri": "https://localhost:8080/"
        },
        "id": "damSYU46Gikv",
        "outputId": "930c62d0-545e-45d3-ad6b-bfba60aaf32f"
      },
      "execution_count": null,
      "outputs": [
        {
          "output_type": "execute_result",
          "data": {
            "text/plain": [
              "['एआई रेडी वर्कफोर्स माइक्रोसॉफ्ट इंटेलिजेंट क्लाउड के प्रयास में, जो एआई रेडी स्किल्स के साथ छात्रों की अगली पीढ़ी के लिए है',\n",
              " 'तीन साल के सहयोगी कार्यक्रम के रूप में इंटेलिजेंट क्लाउड हब एआई इन्फ्रास्ट्रक्चर कोर्स कंटेंट और पाठ्यक्रम डेवलपर के साथ लगभग 100 संस्थानों का समर्थन करेंगे और छात्रों को और एआई सेवाओं तक पहुंच प्रदान करेंगे।',\n",
              " 'कार्यक्रम के हिस्से के रूप में रेडमंड दिग्गज जो अपनी पहुंच चाहते हैं और भारत में एक मजबूत डेवलपर पारिस्थितिकी तंत्र की योजना बना रहा है, कार्यक्रम के साथ परिसर के लिए कोर एआई इन्फ्रास्ट्रक्चर और आईओटी हब को बढ़ाएगा',\n",
              " 'कंपनी एआई डेवलपमेंट टूल्स और एज़्योर एआई सेवाओं जैसे कि माइक्रोसॉफ्ट कॉग्निटिव सर्विसेज बॉट सर्विसेज और एज़्योर मशीन लर्निंग के रूप में प्रकाश कंट्री के महाप्रबंधक स्वास्थ्य और शिक्षा के लिए माइक्रोसॉफ्ट इंडिया के साथ एआई हमारे समय की परिभाषित तकनीक होगी जो जीवन और उद्योग और नौकरियों को बदल रही है।कल एक अलग कौशल होगा',\n",
              " 'यह अधिक सहयोग और प्रशिक्षण और एआई के साथ काम करेगा',\n",
              " 'यही कारण है कि यह शैक्षणिक संस्थानों के लिए नए क्लाउड और एआई प्रौद्योगिकियों के लिए पहले से कहीं अधिक महत्वपूर्ण है',\n",
              " 'कार्यक्रम संस्थागत सेटअप को बढ़ाने और शिक्षकों के बीच कल के कार्यबल के लिए क्षमताओं का निर्माण करने का एक प्रयास है',\n",
              " 'कार्यक्रम का उद्देश्य संज्ञानात्मक कौशल और उद्योग भर के अनुप्रयोगों के लिए बुद्धिमान क्लाउड समाधान विकसित करने की स्वतंत्र समझ को बढ़ाना है',\n",
              " 'इससे पहले इस साल अप्रैल में कंपनी Microsoft पेशेवर कार्यक्रम AI में एक सीखने के ट्रैक के रूप में जनता के लिए खुला है',\n",
              " 'प्रोग्रामर के लिए तैयार कौशल की नौकरी करने के लिए कार्यक्रम जो एआई और डेटा साइंस में अपने कौशल के लिए ऑनलाइन पाठ्यक्रमों की एक श्रृंखला के साथ हैं जो हैंडसन लैब्स और विशेषज्ञ प्रशिक्षकों के साथ भी',\n",
              " 'इस कार्यक्रम ने एआई स्कूल के लिए एआई स्कूल का एक समूह भी डेवलपरफोकस किया है']"
            ]
          },
          "metadata": {},
          "execution_count": 6
        }
      ]
    },
    {
      "cell_type": "code",
      "source": [
        "from google.colab import drive\n",
        "drive.mount('/content/drive')\n",
        "\n",
        "with open('/content/drive/MyDrive/hindi_stopword.txt','r') as f:\n",
        "  stopwords = f.read()\n",
        "\n",
        "print(stopwords)"
      ],
      "metadata": {
        "colab": {
          "base_uri": "https://localhost:8080/"
        },
        "id": "D-uFtAkm6tpn",
        "outputId": "2bd40f74-5ccf-49a1-8c59-dcc5169e4d58"
      },
      "execution_count": null,
      "outputs": [
        {
          "output_type": "stream",
          "name": "stdout",
          "text": [
            "Mounted at /content/drive\n",
            "अत\n",
            "अपना\n",
            "अपनी\n",
            "अपने\n",
            "अभी\n",
            "अंदर\n",
            "आदि\n",
            "आप\n",
            "इत्यादि\n",
            "इन \n",
            "इनका\n",
            "इन्हीं\n",
            "इन्हें\n",
            "इन्हों\n",
            "इस\n",
            "इसका\n",
            "इसकी\n",
            "इसके\n",
            "इसमें\n",
            "इसी\n",
            "इसे\n",
            "उन\n",
            "उनका\n",
            "उनकी\n",
            "उनके\n",
            "उनको\n",
            "उन्हीं\n",
            "उन्हें\n",
            "उन्हों\n",
            "उस\n",
            "उसके\n",
            "उसी\n",
            "उसे\n",
            "एक\n",
            "एवं\n",
            "एस\n",
            "ऐसे\n",
            "और\n",
            "कई\n",
            "कर\n",
            "करता\n",
            "करते\n",
            "करना\n",
            "करने\n",
            "करें\n",
            "कहते\n",
            "कहा\n",
            "का\n",
            "काफ़ी\n",
            "कि\n",
            "कितना\n",
            "किन्हें\n",
            "किन्हों\n",
            "किया\n",
            "किर\n",
            "किस\n",
            "किसी\n",
            "किसे\n",
            "की\n",
            "कुछ\n",
            "कुल\n",
            "के\n",
            "को\n",
            "कोई\n",
            "कौन\n",
            "कौनसा\n",
            "गया\n",
            "घर\n",
            "जब\n",
            "जहाँ\n",
            "जा\n",
            "जितना\n",
            "जिन\n",
            "जिन्हें\n",
            "जिन्हों\n",
            "जिस\n",
            "जिसे\n",
            "जीधर\n",
            "जैसा\n",
            "जैसे\n",
            "जो\n",
            "तक\n",
            "तब\n",
            "तरह\n",
            "तिन\n",
            "तिन्हें\n",
            "तिन्हों\n",
            "तिस\n",
            "तिसे\n",
            "तो\n",
            "था\n",
            "थी\n",
            "थे\n",
            "दबारा\n",
            "दिया\n",
            "दुसरा\n",
            "दूसरे\n",
            "दो\n",
            "द्वारा\n",
            "न\n",
            "नके\n",
            "नहीं\n",
            "ना\n",
            "निहायत\n",
            "नीचे\n",
            "ने\n",
            "पर\n",
            "पहले\n",
            "पूरा\n",
            "पे\n",
            "फिर\n",
            "बनी\n",
            "बही\n",
            "रूप\n",
            "बहुत\n",
            "बाद\n",
            "बाला\n",
            "बिलकुल\n",
            "भी\n",
            "भीतर\n",
            "मगर\n",
            "मानो\n",
            "मे\n",
            "में\n",
            "यदि\n",
            "यह\n",
            "यहाँ\n",
            "यही\n",
            "या\n",
            "यिह\n",
            "ये\n",
            "रखें\n",
            "रहा\n",
            "रहे\n",
            "ऱ्वासा\n",
            "लिए\n",
            "लिये\n",
            "लेकिन\n",
            "व\n",
            "वग़ैरह\n",
            "वर्ग\n",
            "वह\n",
            "वहाँ\n",
            "वहीं\n",
            "वाले\n",
            "वुह\n",
            "वे\n",
            "सकता\n",
            "सकते\n",
            "सबसे\n",
            "सभी\n",
            "साथ\n",
            "साबुत\n",
            "साभ\n",
            "सारा\n",
            "से\n",
            "सो\n",
            "संग\n",
            "ही\n",
            "हुआ\n",
            "हुई\n",
            "हुए\n",
            "है\n",
            "हैं\n",
            "हो\n",
            "होता\n",
            "होती\n",
            "होते\n",
            "होना\n",
            "होने\n",
            "है|\n",
            "हूँ|\n",
            "है|\n",
            "हैं|\n",
            "हो|\n"
          ]
        }
      ]
    },
    {
      "cell_type": "code",
      "source": [
        "def clean(document):\n",
        "    stopword_removal = \" \".join([i for i in document.lower().split() if i not in stopwords])\n",
        "    return stopword_removal"
      ],
      "metadata": {
        "id": "CVMdkN6K6vG3"
      },
      "execution_count": null,
      "outputs": []
    },
    {
      "cell_type": "code",
      "source": [
        "final_doc = [clean(document).split() for document in doc]\n",
        "\n",
        "for i in final_doc:\n",
        "  print(i)"
      ],
      "metadata": {
        "colab": {
          "base_uri": "https://localhost:8080/"
        },
        "id": "HdshPEZ_uYs0",
        "outputId": "c6397700-04be-4156-973b-31cdc2b85acc"
      },
      "execution_count": null,
      "outputs": [
        {
          "output_type": "stream",
          "name": "stdout",
          "text": [
            "['एआई', 'रेडी', 'वर्कफोर्स', 'माइक्रोसॉफ्ट', 'इंटेलिजेंट', 'क्लाउड', 'प्रयास', 'में,', 'एआई', 'रेडी', 'स्किल्स', 'छात्रों', 'अगली', 'पीढ़ी']\n",
            "['तीन', 'साल', 'सहयोगी', 'कार्यक्रम', 'इंटेलिजेंट', 'क्लाउड', 'हब', 'एआई', 'इन्फ्रास्ट्रक्चर', 'कोर्स', 'कंटेंट', 'पाठ्यक्रम', 'डेवलपर', 'लगभग', '100', 'संस्थानों', 'समर्थन', 'करेंगे', 'छात्रों', 'एआई', 'सेवाओं', 'पहुंच', 'प्रदान', 'करेंगे।']\n",
            "['कार्यक्रम', 'हिस्से', 'रेडमंड', 'दिग्गज', 'पहुंच', 'चाहते', 'भारत', 'मजबूत', 'डेवलपर', 'पारिस्थितिकी', 'तंत्र', 'योजना', 'बना', 'है,', 'कार्यक्रम', 'परिसर', 'कोर', 'एआई', 'इन्फ्रास्ट्रक्चर', 'आईओटी', 'हब', 'बढ़ाएगा']\n",
            "['कंपनी', 'एआई', 'डेवलपमेंट', 'टूल्स', 'एज़्योर', 'एआई', 'सेवाओं', 'माइक्रोसॉफ्ट', 'कॉग्निटिव', 'सर्विसेज', 'बॉट', 'सर्विसेज', 'एज़्योर', 'मशीन', 'लर्निंग', 'प्रकाश', 'कंट्री', 'महाप्रबंधक', 'स्वास्थ्य', 'शिक्षा', 'माइक्रोसॉफ्ट', 'इंडिया', 'एआई', 'हमारे', 'समय', 'परिभाषित', 'तकनीक', 'होगी', 'जीवन', 'उद्योग', 'नौकरियों', 'बदल', 'रही', 'है।कल', 'अलग', 'कौशल', 'होगा']\n",
            "['अधिक', 'सहयोग', 'प्रशिक्षण', 'एआई', 'काम', 'करेगा']\n",
            "['कारण', 'शैक्षणिक', 'संस्थानों', 'नए', 'क्लाउड', 'एआई', 'प्रौद्योगिकियों', 'कहीं', 'अधिक', 'महत्वपूर्ण']\n",
            "['कार्यक्रम', 'संस्थागत', 'सेटअप', 'बढ़ाने', 'शिक्षकों', 'बीच', 'कल', 'कार्यबल', 'क्षमताओं', 'निर्माण', 'प्रयास']\n",
            "['कार्यक्रम', 'उद्देश्य', 'संज्ञानात्मक', 'कौशल', 'उद्योग', 'भर', 'अनुप्रयोगों', 'बुद्धिमान', 'क्लाउड', 'समाधान', 'विकसित', 'स्वतंत्र', 'समझ', 'बढ़ाना']\n",
            "['इससे', 'साल', 'अप्रैल', 'कंपनी', 'microsoft', 'पेशेवर', 'कार्यक्रम', 'ai', 'सीखने', 'ट्रैक', 'जनता', 'खुला']\n",
            "['प्रोग्रामर', 'तैयार', 'कौशल', 'नौकरी', 'कार्यक्रम', 'एआई', 'डेटा', 'साइंस', 'कौशल', 'ऑनलाइन', 'पाठ्यक्रमों', 'श्रृंखला', 'हैंडसन', 'लैब्स', 'विशेषज्ञ', 'प्रशिक्षकों']\n",
            "['कार्यक्रम', 'एआई', 'स्कूल', 'एआई', 'स्कूल', 'समूह', 'डेवलपरफोकस']\n"
          ]
        }
      ]
    },
    {
      "cell_type": "code",
      "source": [
        "dictionary = corpora.Dictionary(final_doc)\n",
        "print(dictionary.token2id)\n",
        "\n",
        "DT_matrix = [dictionary.doc2bow(doc) for doc in final_doc]\n",
        "\n",
        "Lda_object = gensim.models.ldamodel.LdaModel"
      ],
      "metadata": {
        "id": "a1wNPFvnuc5o",
        "colab": {
          "base_uri": "https://localhost:8080/"
        },
        "outputId": "23b9becd-a3f2-4c1b-abca-0b085bb35c5b"
      },
      "execution_count": null,
      "outputs": [
        {
          "output_type": "stream",
          "name": "stdout",
          "text": [
            "{'अगली': 0, 'इंटेलिजेंट': 1, 'एआई': 2, 'क्लाउड': 3, 'छात्रों': 4, 'पीढ़ी': 5, 'प्रयास': 6, 'माइक्रोसॉफ्ट': 7, 'में,': 8, 'रेडी': 9, 'वर्कफोर्स': 10, 'स्किल्स': 11, '100': 12, 'इन्फ्रास्ट्रक्चर': 13, 'कंटेंट': 14, 'करेंगे': 15, 'करेंगे।': 16, 'कार्यक्रम': 17, 'कोर्स': 18, 'डेवलपर': 19, 'तीन': 20, 'पहुंच': 21, 'पाठ्यक्रम': 22, 'प्रदान': 23, 'लगभग': 24, 'संस्थानों': 25, 'समर्थन': 26, 'सहयोगी': 27, 'साल': 28, 'सेवाओं': 29, 'हब': 30, 'आईओटी': 31, 'कोर': 32, 'चाहते': 33, 'तंत्र': 34, 'दिग्गज': 35, 'परिसर': 36, 'पारिस्थितिकी': 37, 'बढ़ाएगा': 38, 'बना': 39, 'भारत': 40, 'मजबूत': 41, 'योजना': 42, 'रेडमंड': 43, 'हिस्से': 44, 'है,': 45, 'अलग': 46, 'इंडिया': 47, 'उद्योग': 48, 'एज़्योर': 49, 'कंट्री': 50, 'कंपनी': 51, 'कॉग्निटिव': 52, 'कौशल': 53, 'जीवन': 54, 'टूल्स': 55, 'डेवलपमेंट': 56, 'तकनीक': 57, 'नौकरियों': 58, 'परिभाषित': 59, 'प्रकाश': 60, 'बदल': 61, 'बॉट': 62, 'मशीन': 63, 'महाप्रबंधक': 64, 'रही': 65, 'लर्निंग': 66, 'शिक्षा': 67, 'समय': 68, 'सर्विसेज': 69, 'स्वास्थ्य': 70, 'हमारे': 71, 'है।कल': 72, 'होगा': 73, 'होगी': 74, 'अधिक': 75, 'करेगा': 76, 'काम': 77, 'प्रशिक्षण': 78, 'सहयोग': 79, 'कहीं': 80, 'कारण': 81, 'नए': 82, 'प्रौद्योगिकियों': 83, 'महत्वपूर्ण': 84, 'शैक्षणिक': 85, 'कल': 86, 'कार्यबल': 87, 'क्षमताओं': 88, 'निर्माण': 89, 'बढ़ाने': 90, 'बीच': 91, 'शिक्षकों': 92, 'संस्थागत': 93, 'सेटअप': 94, 'अनुप्रयोगों': 95, 'उद्देश्य': 96, 'बढ़ाना': 97, 'बुद्धिमान': 98, 'भर': 99, 'विकसित': 100, 'संज्ञानात्मक': 101, 'समझ': 102, 'समाधान': 103, 'स्वतंत्र': 104, 'ai': 105, 'microsoft': 106, 'अप्रैल': 107, 'इससे': 108, 'खुला': 109, 'जनता': 110, 'ट्रैक': 111, 'पेशेवर': 112, 'सीखने': 113, 'ऑनलाइन': 114, 'डेटा': 115, 'तैयार': 116, 'नौकरी': 117, 'पाठ्यक्रमों': 118, 'प्रशिक्षकों': 119, 'प्रोग्रामर': 120, 'लैब्स': 121, 'विशेषज्ञ': 122, 'श्रृंखला': 123, 'साइंस': 124, 'हैंडसन': 125, 'डेवलपरफोकस': 126, 'समूह': 127, 'स्कूल': 128}\n"
          ]
        }
      ]
    },
    {
      "cell_type": "code",
      "source": [
        "lda_model_1 = Lda_object(DT_matrix, num_topics=10, id2word = dictionary)\n",
        "\n",
        "lda_model_1.print_topics(num_topics=10, num_words=3)"
      ],
      "metadata": {
        "colab": {
          "base_uri": "https://localhost:8080/"
        },
        "id": "l7XpVSfAufFL",
        "outputId": "9d7548c2-3c4f-4f4c-f240-efd6a6afd1d6"
      },
      "execution_count": null,
      "outputs": [
        {
          "output_type": "stream",
          "name": "stderr",
          "text": [
            "WARNING:gensim.models.ldamodel:too few updates, training might not converge; consider increasing the number of passes or iterations to improve accuracy\n"
          ]
        },
        {
          "output_type": "execute_result",
          "data": {
            "text/plain": [
              "[(0, '0.050*\"एआई\" + 0.037*\"सर्विसेज\" + 0.030*\"एज़्योर\"'),\n",
              " (1, '0.008*\"एआई\" + 0.008*\"कार्यक्रम\" + 0.008*\"क्लाउड\"'),\n",
              " (2, '0.081*\"एआई\" + 0.040*\"माइक्रोसॉफ्ट\" + 0.027*\"अधिक\"'),\n",
              " (3, '0.093*\"एआई\" + 0.048*\"कार्यक्रम\" + 0.048*\"स्कूल\"'),\n",
              " (4, '0.064*\"कार्यक्रम\" + 0.027*\"निर्माण\" + 0.027*\"शिक्षकों\"'),\n",
              " (5, '0.057*\"क्लाउड\" + 0.030*\"एआई\" + 0.030*\"कार्यक्रम\"'),\n",
              " (6, '0.008*\"एआई\" + 0.008*\"कार्यक्रम\" + 0.008*\"क्लाउड\"'),\n",
              " (7, '0.008*\"एआई\" + 0.008*\"कार्यक्रम\" + 0.008*\"क्लाउड\"'),\n",
              " (8, '0.044*\"कार्यक्रम\" + 0.044*\"कंपनी\" + 0.044*\"साल\"'),\n",
              " (9, '0.061*\"एआई\" + 0.056*\"कौशल\" + 0.039*\"रेडी\"')]"
            ]
          },
          "metadata": {},
          "execution_count": 11
        }
      ]
    },
    {
      "cell_type": "code",
      "source": [
        "lda_model_1 = Lda_object(DT_matrix, num_topics=10, id2word = dictionary)\n",
        "\n",
        "lda_model_1.print_topics(num_topics=10, num_words=4)"
      ],
      "metadata": {
        "colab": {
          "base_uri": "https://localhost:8080/"
        },
        "id": "I52XN8TdA2oQ",
        "outputId": "5582512f-1fdb-48af-96d6-609be1f1843b"
      },
      "execution_count": null,
      "outputs": [
        {
          "output_type": "stream",
          "name": "stderr",
          "text": [
            "WARNING:gensim.models.ldamodel:too few updates, training might not converge; consider increasing the number of passes or iterations to improve accuracy\n"
          ]
        },
        {
          "output_type": "execute_result",
          "data": {
            "text/plain": [
              "[(0, '0.008*\"एआई\" + 0.008*\"कार्यक्रम\" + 0.008*\"अधिक\" + 0.008*\"समूह\"'),\n",
              " (1, '0.073*\"कौशल\" + 0.038*\"एआई\" + 0.038*\"कार्यक्रम\" + 0.038*\"हैंडसन\"'),\n",
              " (2, '0.044*\"बीच\" + 0.044*\"कार्यक्रम\" + 0.041*\"प्रयास\" + 0.041*\"क्षमताओं\"'),\n",
              " (3,\n",
              "  '0.044*\"एआई\" + 0.044*\"कार्यक्रम\" + 0.023*\"इन्फ्रास्ट्रक्चर\" + 0.023*\"डेवलपर\"'),\n",
              " (4, '0.057*\"क्लाउड\" + 0.030*\"एआई\" + 0.030*\"कौशल\" + 0.030*\"भर\"'),\n",
              " (5, '0.036*\"कार्यक्रम\" + 0.036*\"एआई\" + 0.036*\"कंपनी\" + 0.036*\"इससे\"'),\n",
              " (6, '0.008*\"एआई\" + 0.008*\"कार्यक्रम\" + 0.008*\"अधिक\" + 0.008*\"स्कूल\"'),\n",
              " (7,\n",
              "  '0.056*\"एआई\" + 0.038*\"सर्विसेज\" + 0.035*\"माइक्रोसॉफ्ट\" + 0.035*\"एज़्योर\"'),\n",
              " (8, '0.008*\"एआई\" + 0.008*\"कार्यक्रम\" + 0.008*\"अधिक\" + 0.008*\"करेगा\"'),\n",
              " (9, '0.101*\"एआई\" + 0.038*\"कार्यक्रम\" + 0.035*\"छात्रों\" + 0.035*\"इंटेलिजेंट\"')]"
            ]
          },
          "metadata": {},
          "execution_count": 12
        }
      ]
    },
    {
      "cell_type": "code",
      "source": [
        "lda_model_2 = Lda_object(DT_matrix, num_topics=10, id2word = dictionary)\n",
        "\n",
        "lda_model_2.print_topics(num_topics=10, num_words=5)"
      ],
      "metadata": {
        "colab": {
          "base_uri": "https://localhost:8080/"
        },
        "id": "YfHGP-HLuhWc",
        "outputId": "f93d83d7-d6b3-4215-d3e3-65c7ec407757"
      },
      "execution_count": null,
      "outputs": [
        {
          "output_type": "stream",
          "name": "stderr",
          "text": [
            "WARNING:gensim.models.ldamodel:too few updates, training might not converge; consider increasing the number of passes or iterations to improve accuracy\n"
          ]
        },
        {
          "output_type": "execute_result",
          "data": {
            "text/plain": [
              "[(0,\n",
              "  '0.058*\"कौशल\" + 0.037*\"साइंस\" + 0.036*\"प्रोग्रामर\" + 0.036*\"नौकरी\" + 0.036*\"विशेषज्ञ\"'),\n",
              " (1,\n",
              "  '0.048*\"एआई\" + 0.048*\"नए\" + 0.048*\"संस्थानों\" + 0.048*\"प्रौद्योगिकियों\" + 0.048*\"अधिक\"'),\n",
              " (2,\n",
              "  '0.090*\"एआई\" + 0.037*\"क्लाउड\" + 0.037*\"छात्रों\" + 0.037*\"इंटेलिजेंट\" + 0.037*\"रेडी\"'),\n",
              " (3,\n",
              "  '0.067*\"कार्यक्रम\" + 0.018*\"एआई\" + 0.018*\"आईओटी\" + 0.018*\"इन्फ्रास्ट्रक्चर\" + 0.018*\"हब\"'),\n",
              " (4,\n",
              "  '0.106*\"स्कूल\" + 0.106*\"एआई\" + 0.055*\"कार्यक्रम\" + 0.055*\"समूह\" + 0.055*\"डेवलपरफोकस\"'),\n",
              " (5,\n",
              "  '0.027*\"एआई\" + 0.019*\"सर्विसेज\" + 0.017*\"एज़्योर\" + 0.016*\"माइक्रोसॉफ्ट\" + 0.016*\"इंडिया\"'),\n",
              " (6,\n",
              "  '0.008*\"एआई\" + 0.008*\"कार्यक्रम\" + 0.008*\"अधिक\" + 0.008*\"कौशल\" + 0.008*\"क्लाउड\"'),\n",
              " (7,\n",
              "  '0.046*\"कार्यक्रम\" + 0.046*\"निर्माण\" + 0.046*\"बीच\" + 0.046*\"कार्यबल\" + 0.046*\"सेटअप\"'),\n",
              " (8,\n",
              "  '0.008*\"एआई\" + 0.008*\"माइक्रोसॉफ्ट\" + 0.008*\"इंडिया\" + 0.008*\"एज़्योर\" + 0.008*\"सर्विसेज\"'),\n",
              " (9,\n",
              "  '0.061*\"एआई\" + 0.039*\"माइक्रोसॉफ्ट\" + 0.038*\"एज़्योर\" + 0.038*\"सर्विसेज\" + 0.034*\"कौशल\"')]"
            ]
          },
          "metadata": {},
          "execution_count": 13
        }
      ]
    },
    {
      "cell_type": "code",
      "source": [
        "lda_model_3 = Lda_object(DT_matrix, num_topics=10, id2word = dictionary)\n",
        "\n",
        "lda_model_3.print_topics(num_topics=10, num_words=6)"
      ],
      "metadata": {
        "colab": {
          "base_uri": "https://localhost:8080/"
        },
        "id": "jFbQ9coOWp0J",
        "outputId": "67c5fd63-fc3a-4aa2-a7bd-3fd7ce6e3e23"
      },
      "execution_count": null,
      "outputs": [
        {
          "output_type": "stream",
          "name": "stderr",
          "text": [
            "WARNING:gensim.models.ldamodel:too few updates, training might not converge; consider increasing the number of passes or iterations to improve accuracy\n"
          ]
        },
        {
          "output_type": "execute_result",
          "data": {
            "text/plain": [
              "[(0,\n",
              "  '0.057*\"एआई\" + 0.042*\"कौशल\" + 0.040*\"कार्यक्रम\" + 0.022*\"पाठ्यक्रमों\" + 0.022*\"प्रशिक्षकों\" + 0.022*\"नौकरी\"'),\n",
              " (1,\n",
              "  '0.008*\"एआई\" + 0.008*\"कार्यक्रम\" + 0.008*\"क्लाउड\" + 0.008*\"अधिक\" + 0.008*\"कौशल\" + 0.008*\"प्रशिक्षण\"'),\n",
              " (2,\n",
              "  '0.055*\"एआई\" + 0.033*\"कार्यक्रम\" + 0.027*\"एज़्योर\" + 0.025*\"माइक्रोसॉफ्ट\" + 0.025*\"सर्विसेज\" + 0.017*\"हब\"'),\n",
              " (3,\n",
              "  '0.082*\"एआई\" + 0.055*\"कार्यक्रम\" + 0.055*\"स्कूल\" + 0.029*\"सीखने\" + 0.029*\"कंपनी\" + 0.029*\"ट्रैक\"'),\n",
              " (4,\n",
              "  '0.008*\"एआई\" + 0.008*\"क्लाउड\" + 0.008*\"कार्यक्रम\" + 0.008*\"अधिक\" + 0.008*\"स्कूल\" + 0.008*\"कौशल\"'),\n",
              " (5,\n",
              "  '0.042*\"क्लाउड\" + 0.040*\"कार्यक्रम\" + 0.038*\"समाधान\" + 0.038*\"कौशल\" + 0.038*\"विकसित\" + 0.038*\"उद्योग\"'),\n",
              " (6,\n",
              "  '0.033*\"एआई\" + 0.029*\"सर्विसेज\" + 0.028*\"माइक्रोसॉफ्ट\" + 0.022*\"एज़्योर\" + 0.019*\"नौकरियों\" + 0.019*\"सेवाओं\"'),\n",
              " (7,\n",
              "  '0.008*\"एआई\" + 0.008*\"कार्यक्रम\" + 0.008*\"अधिक\" + 0.008*\"क्लाउड\" + 0.008*\"स्कूल\" + 0.008*\"समूह\"'),\n",
              " (8,\n",
              "  '0.078*\"एआई\" + 0.078*\"रेडी\" + 0.041*\"प्रयास\" + 0.041*\"इंटेलिजेंट\" + 0.041*\"क्लाउड\" + 0.041*\"में,\"'),\n",
              " (9,\n",
              "  '0.032*\"कार्यक्रम\" + 0.032*\"एआई\" + 0.032*\"सेटअप\" + 0.032*\"कहीं\" + 0.032*\"नए\" + 0.032*\"शैक्षणिक\"')]"
            ]
          },
          "metadata": {},
          "execution_count": 14
        }
      ]
    }
  ]
}